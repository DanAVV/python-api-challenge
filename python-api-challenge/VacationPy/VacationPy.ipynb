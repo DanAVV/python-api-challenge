{
 "cells": [
  {
   "cell_type": "code",
   "execution_count": 49,
   "metadata": {},
   "outputs": [],
   "source": [
    "import matplotlib.pyplot as plt\n",
    "import pandas as pd\n",
    "import numpy as np\n",
    "import requests\n",
    "import gmaps\n",
    "import os\n",
    "import json\n",
    "from config import g_key"
   ]
  },
  {
   "cell_type": "code",
   "execution_count": 50,
   "metadata": {},
   "outputs": [
    {
     "data": {
      "text/html": [
       "<div>\n",
       "<style scoped>\n",
       "    .dataframe tbody tr th:only-of-type {\n",
       "        vertical-align: middle;\n",
       "    }\n",
       "\n",
       "    .dataframe tbody tr th {\n",
       "        vertical-align: top;\n",
       "    }\n",
       "\n",
       "    .dataframe thead th {\n",
       "        text-align: right;\n",
       "    }\n",
       "</style>\n",
       "<table border=\"1\" class=\"dataframe\">\n",
       "  <thead>\n",
       "    <tr style=\"text-align: right;\">\n",
       "      <th></th>\n",
       "      <th>City</th>\n",
       "      <th>Latitude</th>\n",
       "      <th>Longitude</th>\n",
       "      <th>Temperature</th>\n",
       "      <th>Humidity</th>\n",
       "      <th>Cloudiness</th>\n",
       "      <th>Windiness</th>\n",
       "      <th>Country</th>\n",
       "    </tr>\n",
       "  </thead>\n",
       "  <tbody>\n",
       "    <tr>\n",
       "      <th>0</th>\n",
       "      <td>Shiyuan</td>\n",
       "      <td>35.75</td>\n",
       "      <td>102.81</td>\n",
       "      <td>26.83</td>\n",
       "      <td>58</td>\n",
       "      <td>25</td>\n",
       "      <td>5.95</td>\n",
       "      <td>CN</td>\n",
       "    </tr>\n",
       "    <tr>\n",
       "      <th>1</th>\n",
       "      <td>Garoua</td>\n",
       "      <td>9.30</td>\n",
       "      <td>13.40</td>\n",
       "      <td>67.87</td>\n",
       "      <td>14</td>\n",
       "      <td>100</td>\n",
       "      <td>2.35</td>\n",
       "      <td>CM</td>\n",
       "    </tr>\n",
       "    <tr>\n",
       "      <th>2</th>\n",
       "      <td>Tiradentes</td>\n",
       "      <td>-21.11</td>\n",
       "      <td>-44.18</td>\n",
       "      <td>63.75</td>\n",
       "      <td>94</td>\n",
       "      <td>41</td>\n",
       "      <td>8.86</td>\n",
       "      <td>BR</td>\n",
       "    </tr>\n",
       "    <tr>\n",
       "      <th>3</th>\n",
       "      <td>Beihuaidian</td>\n",
       "      <td>39.26</td>\n",
       "      <td>117.56</td>\n",
       "      <td>44.60</td>\n",
       "      <td>26</td>\n",
       "      <td>0</td>\n",
       "      <td>4.47</td>\n",
       "      <td>CN</td>\n",
       "    </tr>\n",
       "    <tr>\n",
       "      <th>4</th>\n",
       "      <td>Maneromango</td>\n",
       "      <td>-7.20</td>\n",
       "      <td>38.78</td>\n",
       "      <td>78.80</td>\n",
       "      <td>94</td>\n",
       "      <td>40</td>\n",
       "      <td>1.68</td>\n",
       "      <td>TZ</td>\n",
       "    </tr>\n",
       "  </tbody>\n",
       "</table>\n",
       "</div>"
      ],
      "text/plain": [
       "          City  Latitude  Longitude  Temperature  Humidity  Cloudiness  \\\n",
       "0      Shiyuan     35.75     102.81        26.83        58          25   \n",
       "1       Garoua      9.30      13.40        67.87        14         100   \n",
       "2   Tiradentes    -21.11     -44.18        63.75        94          41   \n",
       "3  Beihuaidian     39.26     117.56        44.60        26           0   \n",
       "4  Maneromango     -7.20      38.78        78.80        94          40   \n",
       "\n",
       "   Windiness Country  \n",
       "0       5.95      CN  \n",
       "1       2.35      CM  \n",
       "2       8.86      BR  \n",
       "3       4.47      CN  \n",
       "4       1.68      TZ  "
      ]
     },
     "execution_count": 50,
     "metadata": {},
     "output_type": "execute_result"
    }
   ],
   "source": [
    "newdf3 = \"../WeatherPy/csvdata/weatherdata.csv\"\n",
    "newdf4 = pd.read_csv(newdf3)\n",
    "newdf4.head()"
   ]
  },
  {
   "cell_type": "code",
   "execution_count": 60,
   "metadata": {},
   "outputs": [],
   "source": [
    "gmaps.configure(api_key=g_key)"
   ]
  },
  {
   "cell_type": "code",
   "execution_count": 64,
   "metadata": {},
   "outputs": [],
   "source": [
    "newdf5 = newdf4.dropna()"
   ]
  },
  {
   "cell_type": "code",
   "execution_count": 65,
   "metadata": {},
   "outputs": [],
   "source": [
    "Humidity = newdf5[\"Humidity\"].astype(float)"
   ]
  },
  {
   "cell_type": "code",
   "execution_count": 58,
   "metadata": {},
   "outputs": [],
   "source": [
    "locations = newdf5[[\"Latitude\", \"Longitude\"]].astype(float)"
   ]
  },
  {
   "cell_type": "code",
   "execution_count": 59,
   "metadata": {},
   "outputs": [],
   "source": [
    "fig = gmaps.figure()"
   ]
  },
  {
   "cell_type": "code",
   "execution_count": 61,
   "metadata": {},
   "outputs": [],
   "source": [
    "heat_layer = gmaps.heatmap_layer(locations, weights=humidity, dissipating=False, max_intensity=max(newdf5[\"Humidity\"]),point_radius = 1)"
   ]
  },
  {
   "cell_type": "code",
   "execution_count": 62,
   "metadata": {},
   "outputs": [
    {
     "data": {
      "application/vnd.jupyter.widget-view+json": {
       "model_id": "72ee8ea1da2c4713ad79b1e5628001bf",
       "version_major": 2,
       "version_minor": 0
      },
      "text/plain": [
       "Figure(layout=FigureLayout(height='420px'))"
      ]
     },
     "metadata": {},
     "output_type": "display_data"
    }
   ],
   "source": [
    "fig.add_layer(heat_layer)\n",
    "fig"
   ]
  },
  {
   "cell_type": "code",
   "execution_count": 70,
   "metadata": {},
   "outputs": [
    {
     "data": {
      "text/html": [
       "<div>\n",
       "<style scoped>\n",
       "    .dataframe tbody tr th:only-of-type {\n",
       "        vertical-align: middle;\n",
       "    }\n",
       "\n",
       "    .dataframe tbody tr th {\n",
       "        vertical-align: top;\n",
       "    }\n",
       "\n",
       "    .dataframe thead th {\n",
       "        text-align: right;\n",
       "    }\n",
       "</style>\n",
       "<table border=\"1\" class=\"dataframe\">\n",
       "  <thead>\n",
       "    <tr style=\"text-align: right;\">\n",
       "      <th></th>\n",
       "      <th>City</th>\n",
       "      <th>Latitude</th>\n",
       "      <th>Longitude</th>\n",
       "      <th>Temperature</th>\n",
       "      <th>Humidity</th>\n",
       "      <th>Cloudiness</th>\n",
       "      <th>Windiness</th>\n",
       "      <th>Country</th>\n",
       "    </tr>\n",
       "  </thead>\n",
       "  <tbody>\n",
       "    <tr>\n",
       "      <th>40</th>\n",
       "      <td>Le Blanc-Mesnil</td>\n",
       "      <td>17.33</td>\n",
       "      <td>102.83</td>\n",
       "      <td>86.43</td>\n",
       "      <td>66</td>\n",
       "      <td>0</td>\n",
       "      <td>4.70</td>\n",
       "      <td>TH</td>\n",
       "    </tr>\n",
       "    <tr>\n",
       "      <th>87</th>\n",
       "      <td>Castel San Giovanni</td>\n",
       "      <td>-34.60</td>\n",
       "      <td>-58.49</td>\n",
       "      <td>72.81</td>\n",
       "      <td>88</td>\n",
       "      <td>0</td>\n",
       "      <td>9.17</td>\n",
       "      <td>AR</td>\n",
       "    </tr>\n",
       "    <tr>\n",
       "      <th>89</th>\n",
       "      <td>Villa del Parque</td>\n",
       "      <td>11.10</td>\n",
       "      <td>79.67</td>\n",
       "      <td>80.06</td>\n",
       "      <td>73</td>\n",
       "      <td>0</td>\n",
       "      <td>5.26</td>\n",
       "      <td>IN</td>\n",
       "    </tr>\n",
       "    <tr>\n",
       "      <th>99</th>\n",
       "      <td>Junxi</td>\n",
       "      <td>17.30</td>\n",
       "      <td>97.02</td>\n",
       "      <td>88.29</td>\n",
       "      <td>35</td>\n",
       "      <td>0</td>\n",
       "      <td>4.76</td>\n",
       "      <td>MM</td>\n",
       "    </tr>\n",
       "    <tr>\n",
       "      <th>115</th>\n",
       "      <td>Saint-Coulomb</td>\n",
       "      <td>-34.17</td>\n",
       "      <td>-58.96</td>\n",
       "      <td>73.06</td>\n",
       "      <td>88</td>\n",
       "      <td>0</td>\n",
       "      <td>5.82</td>\n",
       "      <td>AR</td>\n",
       "    </tr>\n",
       "    <tr>\n",
       "      <th>144</th>\n",
       "      <td>Kaiyuan</td>\n",
       "      <td>7.85</td>\n",
       "      <td>123.83</td>\n",
       "      <td>82.36</td>\n",
       "      <td>56</td>\n",
       "      <td>0</td>\n",
       "      <td>6.26</td>\n",
       "      <td>PH</td>\n",
       "    </tr>\n",
       "    <tr>\n",
       "      <th>216</th>\n",
       "      <td>Pegões</td>\n",
       "      <td>19.30</td>\n",
       "      <td>109.24</td>\n",
       "      <td>84.63</td>\n",
       "      <td>58</td>\n",
       "      <td>0</td>\n",
       "      <td>8.14</td>\n",
       "      <td>CN</td>\n",
       "    </tr>\n",
       "    <tr>\n",
       "      <th>313</th>\n",
       "      <td>Bargstedt</td>\n",
       "      <td>-20.60</td>\n",
       "      <td>-49.30</td>\n",
       "      <td>82.40</td>\n",
       "      <td>51</td>\n",
       "      <td>0</td>\n",
       "      <td>6.93</td>\n",
       "      <td>BR</td>\n",
       "    </tr>\n",
       "    <tr>\n",
       "      <th>375</th>\n",
       "      <td>Sinor</td>\n",
       "      <td>-34.49</td>\n",
       "      <td>-59.08</td>\n",
       "      <td>72.16</td>\n",
       "      <td>88</td>\n",
       "      <td>0</td>\n",
       "      <td>5.82</td>\n",
       "      <td>AR</td>\n",
       "    </tr>\n",
       "    <tr>\n",
       "      <th>387</th>\n",
       "      <td>Zitlaltépec</td>\n",
       "      <td>7.80</td>\n",
       "      <td>124.73</td>\n",
       "      <td>81.81</td>\n",
       "      <td>39</td>\n",
       "      <td>0</td>\n",
       "      <td>3.38</td>\n",
       "      <td>PH</td>\n",
       "    </tr>\n",
       "  </tbody>\n",
       "</table>\n",
       "</div>"
      ],
      "text/plain": [
       "                    City  Latitude  Longitude  Temperature  Humidity  \\\n",
       "40       Le Blanc-Mesnil     17.33     102.83        86.43        66   \n",
       "87   Castel San Giovanni    -34.60     -58.49        72.81        88   \n",
       "89      Villa del Parque     11.10      79.67        80.06        73   \n",
       "99                 Junxi     17.30      97.02        88.29        35   \n",
       "115        Saint-Coulomb    -34.17     -58.96        73.06        88   \n",
       "144              Kaiyuan      7.85     123.83        82.36        56   \n",
       "216               Pegões     19.30     109.24        84.63        58   \n",
       "313            Bargstedt    -20.60     -49.30        82.40        51   \n",
       "375                Sinor    -34.49     -59.08        72.16        88   \n",
       "387          Zitlaltépec      7.80     124.73        81.81        39   \n",
       "\n",
       "     Cloudiness  Windiness Country  \n",
       "40            0       4.70      TH  \n",
       "87            0       9.17      AR  \n",
       "89            0       5.26      IN  \n",
       "99            0       4.76      MM  \n",
       "115           0       5.82      AR  \n",
       "144           0       6.26      PH  \n",
       "216           0       8.14      CN  \n",
       "313           0       6.93      BR  \n",
       "375           0       5.82      AR  \n",
       "387           0       3.38      PH  "
      ]
     },
     "execution_count": 70,
     "metadata": {},
     "output_type": "execute_result"
    }
   ],
   "source": [
    "#Creating List of Cities with Ideal conditions\n",
    "idealdf = newdf5\n",
    "#temp less than 90 and more than 70\n",
    "idealdf = idealdf.loc[(idealdf[\"Temperature\"] <90) & (idealdf[\"Temperature\"] > 70)]\n",
    "# windiness less than 10 mph.\n",
    "idealdf = idealdf.loc[idealdf[\"Windiness\"] < 10]\n",
    "# No clouds.\n",
    "idealdf = idealdf.loc[idealdf[\"Cloudiness\"] <=0]\n",
    "\n",
    "idealdf2 = idealdf.dropna()\n",
    "idealdf2"
   ]
  },
  {
   "cell_type": "code",
   "execution_count": 78,
   "metadata": {},
   "outputs": [
    {
     "name": "stdout",
     "output_type": "stream",
     "text": [
      " Hotels near Le Blanc-Mesnil.\n",
      "Closest hotel is ที่ทำการผู้ใหญ่บ้าน.\n",
      "XXXXXXXXXXXXXXXXXXXXXXXXXXXXXXXXX\n",
      " Hotels near Castel San Giovanni.\n",
      "Closest hotel is Y Alojamiento.\n",
      "XXXXXXXXXXXXXXXXXXXXXXXXXXXXXXXXX\n",
      " Hotels near Villa del Parque.\n",
      "Closest hotel is Madurai Muniyandi vilas.\n",
      "XXXXXXXXXXXXXXXXXXXXXXXXXXXXXXXXX\n",
      " Hotels near Junxi.\n",
      "error\n",
      "XXXXXXXXXXXXXXXXXXXXXXXXXXXXXXXXX\n",
      " Hotels near Saint-Coulomb.\n",
      "Closest hotel is Hotel Morada Suites.\n",
      "XXXXXXXXXXXXXXXXXXXXXXXXXXXXXXXXX\n",
      " Hotels near Kaiyuan.\n",
      "error\n",
      "XXXXXXXXXXXXXXXXXXXXXXXXXXXXXXXXX\n",
      " Hotels near Pegões.\n",
      "Closest hotel is An'an Hostel.\n",
      "XXXXXXXXXXXXXXXXXXXXXXXXXXXXXXXXX\n",
      " Hotels near Bargstedt.\n",
      "error\n",
      "XXXXXXXXXXXXXXXXXXXXXXXXXXXXXXXXX\n",
      " Hotels near Sinor.\n",
      "error\n",
      "XXXXXXXXXXXXXXXXXXXXXXXXXXXXXXXXX\n",
      " Hotels near Zitlaltépec.\n",
      "error\n",
      "XXXXXXXXXXXXXXXXXXXXXXXXXXXXXXXXX\n"
     ]
    }
   ],
   "source": [
    "#Finding Hotels nearby\n",
    "hotels = idealdf2\n",
    "params = {\"radius\": 500,\"types\": \"lodging\",\"key\": g_key}\n",
    "\n",
    "for index, row in hotels.iterrows():\n",
    "    lat = row[\"Latitude\"]\n",
    "    lon = row[\"Longitude\"]\n",
    "    params[\"location\"] = f\"{lat},{lon}\"\n",
    "    base_url = \"https://maps.googleapis.com/maps/api/place/nearbysearch/json\"\n",
    "    print(f\" Hotels near {row['City']}.\")\n",
    "    response = requests.get(base_url, params=params).json()\n",
    "    results = response['results']\n",
    "    try:\n",
    "        print(f\"Closest hotel is {results[0]['name']}.\")\n",
    "        hotels.loc[index, 'Hotel Name'] = results[0]['name']    \n",
    "    except (KeyError, IndexError):\n",
    "        print(\"error\")\n",
    "        \n",
    "    print(\"XXXXXXXXXXXXXXXXXXXXXXXXXXXXXXXXX\")"
   ]
  },
  {
   "cell_type": "code",
   "execution_count": 79,
   "metadata": {},
   "outputs": [
    {
     "data": {
      "application/vnd.jupyter.widget-view+json": {
       "model_id": "72ee8ea1da2c4713ad79b1e5628001bf",
       "version_major": 2,
       "version_minor": 0
      },
      "text/plain": [
       "Figure(layout=FigureLayout(height='420px'))"
      ]
     },
     "metadata": {},
     "output_type": "display_data"
    }
   ],
   "source": [
    "# Marking Hotels on map\n",
    "locations = hotels[[\"Latitude\", \"Longitude\"]]\n",
    "markers = gmaps.marker_layer(locations)\n",
    "info_box_template = \"\"\"\n",
    "<dt>Country</dt><dd>{Country}</dd>\n",
    "<dt>City</dt><dd>{City}</dd>\n",
    "<dt>Hotel Name</dt><dd>{Hotel Name}</dd>\n",
    "\"\"\"\n",
    "hotel_info = [info_box_template.format(**row) for index, row in hotels.iterrows()]\n",
    "hotel_layer = gmaps.symbol_layer(locations, fill_color='rgba(0, 150, 0, 0.4)',stroke_color='rgba(0, 0, 150, 0.4)', scale=1,info_box_content=hotel_info)\n",
    "fig.add_layer(markers)\n",
    "fig.add_layer(hotel_layer)\n",
    "fig"
   ]
  }
 ],
 "metadata": {
  "kernelspec": {
   "display_name": "Python 3",
   "language": "python",
   "name": "python3"
  },
  "language_info": {
   "codemirror_mode": {
    "name": "ipython",
    "version": 3
   },
   "file_extension": ".py",
   "mimetype": "text/x-python",
   "name": "python",
   "nbconvert_exporter": "python",
   "pygments_lexer": "ipython3",
   "version": "3.6.10"
  }
 },
 "nbformat": 4,
 "nbformat_minor": 4
}
